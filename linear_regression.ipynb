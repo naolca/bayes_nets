{
 "cells": [
  {
   "attachments": {},
   "cell_type": "markdown",
   "metadata": {},
   "source": [
    "# This is a file intended to implement linear regression ML algorithm"
   ]
  },
  {
   "attachments": {},
   "cell_type": "markdown",
   "metadata": {},
   "source": [
    "## First lets start by reading the csv file and stoting the reading in a variable for later use"
   ]
  },
  {
   "cell_type": "code",
   "execution_count": 55,
   "metadata": {},
   "outputs": [
    {
     "name": "stdout",
     "output_type": "stream",
     "text": [
      "[['carat', 'price'], ['0.23', '326'], ['0.21', '326'], ['0.23', '327'], ['0.29', '334'], ['0.31', '335'], ['0.24', '336'], ['0.24', '336'], ['0.26', '337'], ['0.22', '337'], ['0.23', '338'], ['0.3', '339'], ['0.23', '340'], ['0.22', '342'], ['0.31', '344'], ['0.2', '345'], ['0.32', '345'], ['0.3', '348'], ['0.3', '351'], ['0.3', '351'], ['0.3', '351'], ['0.3', '351'], ['0.23', '352'], ['0.23', '353'], ['0.31', '353'], ['0.31', '353'], ['0.23', '354'], ['0.24', '355'], ['0.3', '357'], ['0.23', '357'], ['0.23', '357'], ['0.23', '402'], ['0.23', '402'], ['0.23', '402'], ['0.23', '402'], ['0.23', '402'], ['0.23', '402'], ['0.23', '402'], ['0.31', '402'], ['0.26', '403'], ['0.33', '403'], ['0.33', '403'], ['0.33', '403'], ['0.26', '403'], ['0.26', '403'], ['0.32', '403'], ['0.29', '403'], ['0.32', '403'], ['0.32', '403'], ['0.25', '404'], ['0.29', '404'], ['0.24', '404'], ['0.23', '404'], ['0.32', '404'], ['0.22', '404'], ['0.22', '404'], ['0.3', '405'], ['0.3', '405'], ['0.3', '405'], ['0.3', '405'], ['0.3', '405'], ['0.35', '552'], ['0.3', '552'], ['0.3', '552'], ['0.3', '552'], ['0.42', '552'], ['0.28', '553'], ['0.32', '553'], ['0.31', '553'], ['0.31', '553'], ['0.24', '553'], ['0.24', '553'], ['0.3', '554'], ['0.3', '554'], ['0.3', '554'], ['0.3', '554'], ['0.26', '554'], ['0.26', '554'], ['0.26', '554'], ['0.26', '554'], ['0.26', '554'], ['0.26', '554'], ['0.26', '554'], ['0.26', '554'], ['0.38', '554'], ['0.26', '554'], ['0.24', '554'], ['0.24', '554'], ['0.24', '554'], ['0.24', '554'], ['0.32', '554'], ['0.7', '2757'], ['0.86', '2757'], ['0.7', '2757'], ['0.71', '2759'], ['0.78', '2759'], ['0.7', '2759'], ['0.7', '2759'], ['0.96', '2759'], ['0.73', '2760']]\n"
     ]
    }
   ],
   "source": [
    "import csv\n",
    "\n",
    "def read_csv_file(file_path):\n",
    "    data = []\n",
    "    with open(file_path, 'r') as csvfile:\n",
    "        reader = csv.reader(csvfile)\n",
    "        # header = next(reader)  # Read the header row and skip it\n",
    "\n",
    "        for row in reader:\n",
    "            # print(row)\n",
    "            data.append(row)\n",
    "    return data\n",
    "\n",
    "\n",
    "# Example usage\n",
    "csv_file_path = 'linear_regression_dataset.csv'\n",
    "csv_data = read_csv_file(csv_file_path)\n",
    "for i in range(1000):\n",
    "    # print(csv_data[i][1], csv_data[i][7])\n",
    "    csv_data[i] = [csv_data[i][1], csv_data[i][7]]\n",
    "\n",
    "print(csv_data[:100])"
   ]
  },
  {
   "attachments": {},
   "cell_type": "markdown",
   "metadata": {},
   "source": [
    "### lets plot the graph for some part of the dataset"
   ]
  },
  {
   "cell_type": "code",
   "execution_count": 56,
   "metadata": {},
   "outputs": [
    {
     "name": "stdout",
     "output_type": "stream",
     "text": [
      "[0.23, 0.21, 0.23, 0.29, 0.31, 0.24, 0.24, 0.26, 0.22, 0.23, 0.3, 0.23, 0.22, 0.31, 0.2, 0.32, 0.3, 0.3, 0.3, 0.3, 0.3, 0.23, 0.23, 0.31, 0.31, 0.23, 0.24, 0.3, 0.23, 0.23, 0.23, 0.23, 0.23, 0.23, 0.23, 0.23, 0.23, 0.31, 0.26, 0.33, 0.33, 0.33, 0.26, 0.26, 0.32, 0.29, 0.32, 0.32, 0.25, 0.29, 0.24, 0.23, 0.32, 0.22, 0.22, 0.3, 0.3, 0.3, 0.3, 0.3, 0.35, 0.3, 0.3, 0.3, 0.42, 0.28, 0.32, 0.31, 0.31, 0.24, 0.24, 0.3, 0.3, 0.3, 0.3, 0.26, 0.26, 0.26, 0.26, 0.26, 0.26, 0.26, 0.26, 0.38, 0.26, 0.24, 0.24, 0.24, 0.24, 0.32, 0.7, 0.86, 0.7, 0.71, 0.78, 0.7, 0.7, 0.96, 0.73]\n"
     ]
    },
    {
     "data": {
      "image/png": "[encoded data removed]",
      "text/plain": [
       "<Figure size 640x480 with 1 Axes>"
      ]
     },
     "metadata": {},
     "output_type": "display_data"
    }
   ],
   "source": [
    "import matplotlib\n",
    "import matplotlib.pyplot as plt\n",
    "\n",
    "carat = [float(csv_data[i][0]) for i in range(1, 1000)]\n",
    "price = [float(csv_data[i][1]) for i in range(1, 1000)]\n",
    "print(carat)\n",
    "plt.scatter(carat, price)\n",
    "plt.xlabel('Carat')\n",
    "plt.ylabel('Price')\n",
    "plt.title('Carat vs. Price')\n",
    "plt.show()\n",
    "\n",
    "\n",
    "\n"
   ]
  },
  {
   "attachments": {},
   "cell_type": "markdown",
   "metadata": {},
   "source": [
    "# let's create a class to implement the algorithm"
   ]
  },
  {
   "cell_type": "code",
   "execution_count": 69,
   "metadata": {},
   "outputs": [],
   "source": [
    "import numpy as np\n",
    "\n",
    "class LinearRegression:\n",
    "    def __init__(self, learning_rate=1, num_iter=1000):\n",
    "        self.learning_rate = learning_rate\n",
    "        self.num_iter = num_iter\n",
    "\n",
    "\n",
    "    def fit(self, X, y):\n",
    "        n_samples = len(y)\n",
    "        self.weights = np.zeros((X.shape[1], 1))\n",
    "        self.bias = 0\n",
    "\n",
    "        for _ in range(self.num_iter):\n",
    "            y_pred = np.dot(X, self.weights) + self.bias\n",
    "            dw = 1 / n_samples * np.dot(X.T, (y_pred - y))\n",
    "            db = 1 / n_samples * np.sum(y_pred - y)\n",
    "\n",
    "            self.weights -= self.learning_rate * dw\n",
    "            self.bias -= self.learning_rate * db\n",
    "    def fitter(self, X, y):\n",
    "        self.weights = 0\n",
    "        self.mean_x = sum(X) / len(X)\n",
    "        self.mean_y = sum(y) / len(y)\n",
    "\n",
    "        sum_x_minus = 0\n",
    "        square_x_minus = 0\n",
    "        for i in range(len(X)):\n",
    "            sum_x_minus += (X[i] - self.mean_x)\n",
    "            square_x_minus += (X[i] - self.mean_x)**2\n",
    "        sum_y_minus = 0\n",
    "        for i in range(len(y)):\n",
    "            sum_y_minus += (y[i] - self.mean_y)\n",
    "        self.weights = (sum_x_minus * sum_y_minus) / square_x_minus\n",
    "        self.bias = - self.weights * self.mean_x + self.mean_y\n",
    "    def predictor(self, x):\n",
    "        return self.bias + x * self.weights\n",
    "        \n",
    "        \n",
    "\n",
    "    def predict(self, X):\n",
    "        y_pred = np.dot(X, self.weights) + self.bias\n",
    "        return y_pred\n",
    "# lr = LinearRegression()\n",
    "\n",
    "# carat = np.array(carat).reshape(-1, 1)\n",
    "# price = np.array(price).reshape(-1, 1)\n",
    "\n",
    "# lr.fitter(carat, price)\n",
    "\n",
    "# print(lr.predictor(0.24))\n",
    "# lr.fit(carat, price)\n",
    "# print(lr.predictor(0.24))\n",
    "\n",
    "            "
   ]
  },
  {
   "attachments": {},
   "cell_type": "markdown",
   "metadata": {},
   "source": [
    "## lets learn"
   ]
  },
  {
   "cell_type": "code",
   "execution_count": 72,
   "metadata": {},
   "outputs": [
    {
     "name": "stdout",
     "output_type": "stream",
     "text": [
      "[[308.30678344]]\n",
      "[[4323.81691901]] -729.409277126971\n"
     ]
    }
   ],
   "source": [
    "import matplotlib.pyplot as plt\n",
    "import numpy as np\n",
    "\n",
    "\n",
    "# plt.scatter(carat, price)\n",
    "# plt.xlabel('Carat')\n",
    "# plt.ylabel('Price')\n",
    "# plt.title('Carat vs. Price')\n",
    "# x = np.linspace(carat.min(), carat.max(), 100)\n",
    "# # Given values of m and c\n",
    "lr = LinearRegression()\n",
    "\n",
    "# carat = np.array(carat).reshape(-1, 1)\n",
    "# price = np.array(price).reshape(-1, 1)\n",
    "\n",
    "\n",
    "lr.fit(carat, price)\n",
    "print(lr.predict(0.24))\n",
    "m = lr.weights\n",
    "c = lr.bias\n",
    "print(m, c)\n",
    "\n",
    "# Scatter plot\n",
    "\n",
    "\n",
    "# Line plot\n",
    "# y = m * x + c\n",
    "# plt.plot(x, y, color='red')\n",
    "\n",
    "# # Show the plot\n",
    "# plt.show()"
   ]
  }
 ],
 "metadata": {
  "kernelspec": {
   "display_name": "Python 3",
   "language": "python",
   "name": "python3"
  },
  "language_info": {
   "codemirror_mode": {
    "name": "ipython",
    "version": 3
   },
   "file_extension": ".py",
   "mimetype": "text/x-python",
   "name": "python",
   "nbconvert_exporter": "python",
   "pygments_lexer": "ipython3",
   "version": "3.10.6"
  },
  "orig_nbformat": 4
 },
 "nbformat": 4,
 "nbformat_minor": 2
}
